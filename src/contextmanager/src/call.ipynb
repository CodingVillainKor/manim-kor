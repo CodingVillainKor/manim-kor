{
 "cells": [
  {
   "cell_type": "code",
   "execution_count": null,
   "id": "9837db12",
   "metadata": {},
   "outputs": [],
   "source": [
    "from contextlib import contextmanager\n",
    "from time import perf_counter, sleep"
   ]
  },
  {
   "cell_type": "code",
   "execution_count": null,
   "id": "3c5b788c",
   "metadata": {},
   "outputs": [],
   "source": [
    "@contextmanager\n",
    "def elapsed_time():\n",
    "    start_time = perf_counter()\n",
    "    yield\n",
    "    end_time = perf_counter()\n",
    "    time = end_time - start_time\n",
    "    print(f\"Elapsed time: {time:.3f} seconds\")"
   ]
  },
  {
   "cell_type": "code",
   "execution_count": null,
   "id": "db4d85a0",
   "metadata": {},
   "outputs": [],
   "source": [
    "with elapsed_time():\n",
    "    sleep(0.9)"
   ]
  }
 ],
 "metadata": {
  "kernelspec": {
   "display_name": "manim",
   "language": "python",
   "name": "python3"
  },
  "language_info": {
   "codemirror_mode": {
    "name": "ipython",
    "version": 3
   },
   "file_extension": ".py",
   "mimetype": "text/x-python",
   "name": "python",
   "nbconvert_exporter": "python",
   "pygments_lexer": "ipython3",
   "version": "3.11.8"
  }
 },
 "nbformat": 4,
 "nbformat_minor": 5
}
